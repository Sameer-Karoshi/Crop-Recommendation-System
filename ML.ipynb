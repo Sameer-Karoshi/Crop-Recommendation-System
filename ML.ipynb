{
  "nbformat": 4,
  "nbformat_minor": 0,
  "metadata": {
    "colab": {
      "name": "ML.ipynb",
      "provenance": []
    },
    "kernelspec": {
      "name": "python3",
      "display_name": "Python 3"
    },
    "language_info": {
      "name": "python"
    }
  },
  "cells": [
    {
      "cell_type": "code",
      "metadata": {
        "id": "JCPjXhJYOVkL"
      },
      "source": [
        "import pandas as pd\n",
        "import numpy as np\n",
        "from sklearn.metrics import classification_report\n",
        "from sklearn import metrics\n",
        "from sklearn import tree\n",
        "import warnings\n",
        "warnings.filterwarnings('ignore')"
      ],
      "execution_count": null,
      "outputs": []
    },
    {
      "cell_type": "code",
      "metadata": {
        "colab": {
          "base_uri": "https://localhost:8080/"
        },
        "id": "JRgUBF6sOxOR",
        "outputId": "96f5d604-299b-4d30-f241-f6a01a436b43"
      },
      "source": [
        "from google.colab import drive\n",
        "drive.mount('/content/gdrive')"
      ],
      "execution_count": null,
      "outputs": [
        {
          "output_type": "stream",
          "name": "stdout",
          "text": [
            "Mounted at /content/gdrive\n"
          ]
        }
      ]
    },
    {
      "cell_type": "code",
      "metadata": {
        "id": "bAJPg0bQOzAp",
        "colab": {
          "base_uri": "https://localhost:8080/",
          "height": 423
        },
        "outputId": "67eb139f-fe1b-4734-d562-274626f5febc"
      },
      "source": [
        "df = pd.read_csv('/content/gdrive/MyDrive/eFarma/Crop Recommendation/Crop_recommendation.csv')\n",
        "df.sample(n=100)"
      ],
      "execution_count": null,
      "outputs": [
        {
          "output_type": "execute_result",
          "data": {
            "text/html": [
              "<div>\n",
              "<style scoped>\n",
              "    .dataframe tbody tr th:only-of-type {\n",
              "        vertical-align: middle;\n",
              "    }\n",
              "\n",
              "    .dataframe tbody tr th {\n",
              "        vertical-align: top;\n",
              "    }\n",
              "\n",
              "    .dataframe thead th {\n",
              "        text-align: right;\n",
              "    }\n",
              "</style>\n",
              "<table border=\"1\" class=\"dataframe\">\n",
              "  <thead>\n",
              "    <tr style=\"text-align: right;\">\n",
              "      <th></th>\n",
              "      <th>N</th>\n",
              "      <th>P</th>\n",
              "      <th>K</th>\n",
              "      <th>temperature</th>\n",
              "      <th>humidity</th>\n",
              "      <th>ph</th>\n",
              "      <th>rainfall</th>\n",
              "      <th>label</th>\n",
              "    </tr>\n",
              "  </thead>\n",
              "  <tbody>\n",
              "    <tr>\n",
              "      <th>1317</th>\n",
              "      <td>109</td>\n",
              "      <td>21</td>\n",
              "      <td>55</td>\n",
              "      <td>24.900460</td>\n",
              "      <td>89.735242</td>\n",
              "      <td>6.770278</td>\n",
              "      <td>57.449421</td>\n",
              "      <td>watermelon</td>\n",
              "    </tr>\n",
              "    <tr>\n",
              "      <th>608</th>\n",
              "      <td>0</td>\n",
              "      <td>49</td>\n",
              "      <td>18</td>\n",
              "      <td>29.683617</td>\n",
              "      <td>87.935981</td>\n",
              "      <td>6.990095</td>\n",
              "      <td>41.824902</td>\n",
              "      <td>mungbean</td>\n",
              "    </tr>\n",
              "    <tr>\n",
              "      <th>1232</th>\n",
              "      <td>32</td>\n",
              "      <td>139</td>\n",
              "      <td>198</td>\n",
              "      <td>35.893075</td>\n",
              "      <td>82.668507</td>\n",
              "      <td>6.358187</td>\n",
              "      <td>66.539466</td>\n",
              "      <td>grapes</td>\n",
              "    </tr>\n",
              "    <tr>\n",
              "      <th>981</th>\n",
              "      <td>8</td>\n",
              "      <td>28</td>\n",
              "      <td>38</td>\n",
              "      <td>23.225940</td>\n",
              "      <td>94.429714</td>\n",
              "      <td>6.844402</td>\n",
              "      <td>105.691786</td>\n",
              "      <td>pomegranate</td>\n",
              "    </tr>\n",
              "    <tr>\n",
              "      <th>971</th>\n",
              "      <td>32</td>\n",
              "      <td>14</td>\n",
              "      <td>37</td>\n",
              "      <td>22.730313</td>\n",
              "      <td>88.485679</td>\n",
              "      <td>6.825256</td>\n",
              "      <td>104.684324</td>\n",
              "      <td>pomegranate</td>\n",
              "    </tr>\n",
              "    <tr>\n",
              "      <th>...</th>\n",
              "      <td>...</td>\n",
              "      <td>...</td>\n",
              "      <td>...</td>\n",
              "      <td>...</td>\n",
              "      <td>...</td>\n",
              "      <td>...</td>\n",
              "      <td>...</td>\n",
              "      <td>...</td>\n",
              "    </tr>\n",
              "    <tr>\n",
              "      <th>2027</th>\n",
              "      <td>76</td>\n",
              "      <td>44</td>\n",
              "      <td>45</td>\n",
              "      <td>25.487968</td>\n",
              "      <td>84.482359</td>\n",
              "      <td>6.740948</td>\n",
              "      <td>168.784889</td>\n",
              "      <td>jute</td>\n",
              "    </tr>\n",
              "    <tr>\n",
              "      <th>1765</th>\n",
              "      <td>40</td>\n",
              "      <td>64</td>\n",
              "      <td>47</td>\n",
              "      <td>32.500375</td>\n",
              "      <td>93.478888</td>\n",
              "      <td>6.893509</td>\n",
              "      <td>71.737595</td>\n",
              "      <td>papaya</td>\n",
              "    </tr>\n",
              "    <tr>\n",
              "      <th>94</th>\n",
              "      <td>60</td>\n",
              "      <td>51</td>\n",
              "      <td>36</td>\n",
              "      <td>22.696578</td>\n",
              "      <td>82.810889</td>\n",
              "      <td>6.028322</td>\n",
              "      <td>256.996476</td>\n",
              "      <td>rice</td>\n",
              "    </tr>\n",
              "    <tr>\n",
              "      <th>1541</th>\n",
              "      <td>21</td>\n",
              "      <td>137</td>\n",
              "      <td>196</td>\n",
              "      <td>23.611920</td>\n",
              "      <td>91.702938</td>\n",
              "      <td>5.812782</td>\n",
              "      <td>123.590082</td>\n",
              "      <td>apple</td>\n",
              "    </tr>\n",
              "    <tr>\n",
              "      <th>1881</th>\n",
              "      <td>19</td>\n",
              "      <td>30</td>\n",
              "      <td>30</td>\n",
              "      <td>29.565492</td>\n",
              "      <td>91.408963</td>\n",
              "      <td>5.826381</td>\n",
              "      <td>224.831573</td>\n",
              "      <td>coconut</td>\n",
              "    </tr>\n",
              "  </tbody>\n",
              "</table>\n",
              "<p>100 rows × 8 columns</p>\n",
              "</div>"
            ],
            "text/plain": [
              "        N    P    K  temperature   humidity        ph    rainfall        label\n",
              "1317  109   21   55    24.900460  89.735242  6.770278   57.449421   watermelon\n",
              "608     0   49   18    29.683617  87.935981  6.990095   41.824902     mungbean\n",
              "1232   32  139  198    35.893075  82.668507  6.358187   66.539466       grapes\n",
              "981     8   28   38    23.225940  94.429714  6.844402  105.691786  pomegranate\n",
              "971    32   14   37    22.730313  88.485679  6.825256  104.684324  pomegranate\n",
              "...   ...  ...  ...          ...        ...       ...         ...          ...\n",
              "2027   76   44   45    25.487968  84.482359  6.740948  168.784889         jute\n",
              "1765   40   64   47    32.500375  93.478888  6.893509   71.737595       papaya\n",
              "94     60   51   36    22.696578  82.810889  6.028322  256.996476         rice\n",
              "1541   21  137  196    23.611920  91.702938  5.812782  123.590082        apple\n",
              "1881   19   30   30    29.565492  91.408963  5.826381  224.831573      coconut\n",
              "\n",
              "[100 rows x 8 columns]"
            ]
          },
          "metadata": {},
          "execution_count": 4
        }
      ]
    },
    {
      "cell_type": "code",
      "metadata": {
        "id": "9EuVL7_qO95y",
        "colab": {
          "base_uri": "https://localhost:8080/"
        },
        "outputId": "bbc88e76-c698-4c82-b363-46169e2eeac7"
      },
      "source": [
        "crops = df['label'].unique()\n",
        "print(f'Total crops: {len(crops)}')\n",
        "print(', '.join(crops))"
      ],
      "execution_count": null,
      "outputs": [
        {
          "output_type": "stream",
          "name": "stdout",
          "text": [
            "Total crops: 22\n",
            "rice, maize, chickpea, kidneybeans, pigeonpeas, mothbeans, mungbean, blackgram, lentil, pomegranate, banana, mango, grapes, watermelon, muskmelon, apple, orange, papaya, coconut, cotton, jute, coffee\n"
          ]
        }
      ]
    },
    {
      "cell_type": "code",
      "metadata": {
        "id": "761PYYhKPG-p",
        "colab": {
          "base_uri": "https://localhost:8080/",
          "height": 269
        },
        "outputId": "ff508a3b-cfa7-49b4-f3d2-bddc99c71ded"
      },
      "source": [
        "df.corr()"
      ],
      "execution_count": null,
      "outputs": [
        {
          "output_type": "execute_result",
          "data": {
            "text/html": [
              "<div>\n",
              "<style scoped>\n",
              "    .dataframe tbody tr th:only-of-type {\n",
              "        vertical-align: middle;\n",
              "    }\n",
              "\n",
              "    .dataframe tbody tr th {\n",
              "        vertical-align: top;\n",
              "    }\n",
              "\n",
              "    .dataframe thead th {\n",
              "        text-align: right;\n",
              "    }\n",
              "</style>\n",
              "<table border=\"1\" class=\"dataframe\">\n",
              "  <thead>\n",
              "    <tr style=\"text-align: right;\">\n",
              "      <th></th>\n",
              "      <th>N</th>\n",
              "      <th>P</th>\n",
              "      <th>K</th>\n",
              "      <th>temperature</th>\n",
              "      <th>humidity</th>\n",
              "      <th>ph</th>\n",
              "      <th>rainfall</th>\n",
              "    </tr>\n",
              "  </thead>\n",
              "  <tbody>\n",
              "    <tr>\n",
              "      <th>N</th>\n",
              "      <td>1.000000</td>\n",
              "      <td>-0.231460</td>\n",
              "      <td>-0.140512</td>\n",
              "      <td>0.026504</td>\n",
              "      <td>0.190688</td>\n",
              "      <td>0.096683</td>\n",
              "      <td>0.059020</td>\n",
              "    </tr>\n",
              "    <tr>\n",
              "      <th>P</th>\n",
              "      <td>-0.231460</td>\n",
              "      <td>1.000000</td>\n",
              "      <td>0.736232</td>\n",
              "      <td>-0.127541</td>\n",
              "      <td>-0.118734</td>\n",
              "      <td>-0.138019</td>\n",
              "      <td>-0.063839</td>\n",
              "    </tr>\n",
              "    <tr>\n",
              "      <th>K</th>\n",
              "      <td>-0.140512</td>\n",
              "      <td>0.736232</td>\n",
              "      <td>1.000000</td>\n",
              "      <td>-0.160387</td>\n",
              "      <td>0.190859</td>\n",
              "      <td>-0.169503</td>\n",
              "      <td>-0.053461</td>\n",
              "    </tr>\n",
              "    <tr>\n",
              "      <th>temperature</th>\n",
              "      <td>0.026504</td>\n",
              "      <td>-0.127541</td>\n",
              "      <td>-0.160387</td>\n",
              "      <td>1.000000</td>\n",
              "      <td>0.205320</td>\n",
              "      <td>-0.017795</td>\n",
              "      <td>-0.030084</td>\n",
              "    </tr>\n",
              "    <tr>\n",
              "      <th>humidity</th>\n",
              "      <td>0.190688</td>\n",
              "      <td>-0.118734</td>\n",
              "      <td>0.190859</td>\n",
              "      <td>0.205320</td>\n",
              "      <td>1.000000</td>\n",
              "      <td>-0.008483</td>\n",
              "      <td>0.094423</td>\n",
              "    </tr>\n",
              "    <tr>\n",
              "      <th>ph</th>\n",
              "      <td>0.096683</td>\n",
              "      <td>-0.138019</td>\n",
              "      <td>-0.169503</td>\n",
              "      <td>-0.017795</td>\n",
              "      <td>-0.008483</td>\n",
              "      <td>1.000000</td>\n",
              "      <td>-0.109069</td>\n",
              "    </tr>\n",
              "    <tr>\n",
              "      <th>rainfall</th>\n",
              "      <td>0.059020</td>\n",
              "      <td>-0.063839</td>\n",
              "      <td>-0.053461</td>\n",
              "      <td>-0.030084</td>\n",
              "      <td>0.094423</td>\n",
              "      <td>-0.109069</td>\n",
              "      <td>1.000000</td>\n",
              "    </tr>\n",
              "  </tbody>\n",
              "</table>\n",
              "</div>"
            ],
            "text/plain": [
              "                    N         P         K  ...  humidity        ph  rainfall\n",
              "N            1.000000 -0.231460 -0.140512  ...  0.190688  0.096683  0.059020\n",
              "P           -0.231460  1.000000  0.736232  ... -0.118734 -0.138019 -0.063839\n",
              "K           -0.140512  0.736232  1.000000  ...  0.190859 -0.169503 -0.053461\n",
              "temperature  0.026504 -0.127541 -0.160387  ...  0.205320 -0.017795 -0.030084\n",
              "humidity     0.190688 -0.118734  0.190859  ...  1.000000 -0.008483  0.094423\n",
              "ph           0.096683 -0.138019 -0.169503  ... -0.008483  1.000000 -0.109069\n",
              "rainfall     0.059020 -0.063839 -0.053461  ...  0.094423 -0.109069  1.000000\n",
              "\n",
              "[7 rows x 7 columns]"
            ]
          },
          "metadata": {},
          "execution_count": 6
        }
      ]
    },
    {
      "cell_type": "code",
      "metadata": {
        "id": "8X10gdnRPouR"
      },
      "source": [
        "features = df[['N', 'P','K','temperature', 'humidity', 'ph', 'rainfall']]\n",
        "target = df['label']\n",
        "labels = df['label']"
      ],
      "execution_count": null,
      "outputs": []
    },
    {
      "cell_type": "code",
      "metadata": {
        "id": "rDvfDyY2PMsg"
      },
      "source": [
        "from sklearn.model_selection import train_test_split\n",
        "Xtrain, Xtest, Ytrain, Ytest = train_test_split(features,target,test_size = 0.2,random_state=2)"
      ],
      "execution_count": null,
      "outputs": []
    },
    {
      "cell_type": "markdown",
      "metadata": {
        "id": "h7yX1D6oQHqN"
      },
      "source": [
        "### Logistic Regression"
      ]
    },
    {
      "cell_type": "code",
      "metadata": {
        "id": "K2cgSXY5PqTQ",
        "colab": {
          "base_uri": "https://localhost:8080/"
        },
        "outputId": "84e318b9-cf9d-4534-c932-1e45d09b550b"
      },
      "source": [
        "from sklearn.linear_model import LogisticRegression\n",
        "\n",
        "LogReg = LogisticRegression(random_state=2)\n",
        "LogReg.fit(Xtrain,Ytrain)\n",
        "predicted_values = LogReg.predict(Xtest)\n",
        "\n",
        "accuracy = metrics.accuracy_score(Ytest, predicted_values)\n",
        "print(f'Accuracy of logistic regression: {accuracy*100}')"
      ],
      "execution_count": null,
      "outputs": [
        {
          "output_type": "stream",
          "name": "stdout",
          "text": [
            "Accuracy of logistic regression: 95.22727272727273\n"
          ]
        }
      ]
    },
    {
      "cell_type": "markdown",
      "metadata": {
        "id": "4Gnc-2_lX12W"
      },
      "source": [
        "### KNN"
      ]
    },
    {
      "cell_type": "code",
      "metadata": {
        "id": "AXhGTTRrRyP-",
        "colab": {
          "base_uri": "https://localhost:8080/"
        },
        "outputId": "73873640-695b-4404-889c-edbfd2d3d807"
      },
      "source": [
        "from sklearn.neighbors import KNeighborsClassifier\n",
        "\n",
        "knn = KNeighborsClassifier(n_neighbors=7)\n",
        "knn.fit(Xtrain, Ytrain)\n",
        "predicted_values = knn.predict(Xtest)\n",
        "\n",
        "accuracy = metrics.accuracy_score(Ytest, predicted_values)\n",
        "print(f'Accuracy of KNN: {accuracy*100}')"
      ],
      "execution_count": null,
      "outputs": [
        {
          "output_type": "stream",
          "name": "stdout",
          "text": [
            "Accuracy of KNN: 97.72727272727273\n"
          ]
        }
      ]
    },
    {
      "cell_type": "markdown",
      "metadata": {
        "id": "YO5zMq4DRHBq"
      },
      "source": [
        "### Decision Tree"
      ]
    },
    {
      "cell_type": "code",
      "metadata": {
        "id": "8XLQd6aMRGUU",
        "colab": {
          "base_uri": "https://localhost:8080/"
        },
        "outputId": "5c365b39-589f-4878-d4b1-fd7c8ba152e7"
      },
      "source": [
        "from sklearn.tree import DecisionTreeClassifier\n",
        "\n",
        "DecisionTree = DecisionTreeClassifier(criterion=\"entropy\",random_state=2,max_depth=5)\n",
        "DecisionTree.fit(Xtrain,Ytrain)\n",
        "predicted_values = DecisionTree.predict(Xtest)\n",
        "\n",
        "accuracy = metrics.accuracy_score(Ytest, predicted_values)\n",
        "print(f'Accuracy of decision tree: {accuracy*100}')"
      ],
      "execution_count": null,
      "outputs": [
        {
          "output_type": "stream",
          "name": "stdout",
          "text": [
            "Accuracy of decision tree: 90.0\n"
          ]
        }
      ]
    },
    {
      "cell_type": "markdown",
      "metadata": {
        "id": "tWdK0IC8Qq0C"
      },
      "source": [
        "### Random Forest"
      ]
    },
    {
      "cell_type": "code",
      "metadata": {
        "id": "cWVZ28R6QZcJ",
        "colab": {
          "base_uri": "https://localhost:8080/"
        },
        "outputId": "a3e4fe41-ff5b-438d-a7dd-ffb96947f0e3"
      },
      "source": [
        "from sklearn.ensemble import RandomForestClassifier\n",
        "\n",
        "RF = RandomForestClassifier(n_estimators=20, random_state=0)\n",
        "RF.fit(Xtrain,Ytrain)\n",
        "predicted_values = RF.predict(Xtest)\n",
        "\n",
        "accuracy = metrics.accuracy_score(Ytest, predicted_values)\n",
        "print(f'Accuracy of random forest: {accuracy*100}')"
      ],
      "execution_count": null,
      "outputs": [
        {
          "output_type": "stream",
          "name": "stdout",
          "text": [
            "Accuracy of random forest: 99.0909090909091\n"
          ]
        }
      ]
    },
    {
      "cell_type": "markdown",
      "metadata": {
        "id": "kTbcj3NqScjK"
      },
      "source": [
        "#### Cross validation"
      ]
    },
    {
      "cell_type": "code",
      "metadata": {
        "id": "MFXM5C3VQzdA",
        "colab": {
          "base_uri": "https://localhost:8080/"
        },
        "outputId": "a808ece0-83c4-4f75-f6e6-92bb89bda1ea"
      },
      "source": [
        "from sklearn.model_selection import cross_val_score\n",
        "score = cross_val_score(RF, features, target,cv=5)\n",
        "print(score)"
      ],
      "execution_count": null,
      "outputs": [
        {
          "output_type": "stream",
          "name": "stdout",
          "text": [
            "[0.99772727 0.99545455 0.99772727 0.99318182 0.98863636]\n"
          ]
        }
      ]
    },
    {
      "cell_type": "markdown",
      "metadata": {
        "id": "XFvS1anhS9Et"
      },
      "source": [
        "#### Saving model"
      ]
    },
    {
      "cell_type": "code",
      "metadata": {
        "id": "xsOI_bNiSo7I"
      },
      "source": [
        "import pickle\n",
        "\n",
        "model = open('/content/gdrive/MyDrive/eFarma/Crop Recommendation/crop_recommendation.pkl', 'wb')\n",
        "pickle.dump(RF, model)\n",
        "model.close()"
      ],
      "execution_count": null,
      "outputs": []
    },
    {
      "cell_type": "code",
      "metadata": {
        "id": "FCYk3AtfUAow"
      },
      "source": [
        ""
      ],
      "execution_count": null,
      "outputs": []
    },
    {
      "cell_type": "markdown",
      "metadata": {
        "id": "Jp88ljTYUSz0"
      },
      "source": [
        "## Predict"
      ]
    },
    {
      "cell_type": "code",
      "metadata": {
        "id": "OM2kmvDJUUtP"
      },
      "source": [
        "import pickle\n",
        "model = pickle.load(open('/content/gdrive/MyDrive/eFarma/Crop Recommendation/crop_recommendation.pkl', 'rb'))"
      ],
      "execution_count": null,
      "outputs": []
    },
    {
      "cell_type": "code",
      "metadata": {
        "id": "zfxjAIKGU-wR",
        "colab": {
          "base_uri": "https://localhost:8080/"
        },
        "outputId": "77ebd675-9d5b-4001-b720-a602cdb860d9"
      },
      "source": [
        "model.predict([[16, 8, 9, 24.602975, 91.284087, 7.601190, 111.294811]])"
      ],
      "execution_count": null,
      "outputs": [
        {
          "output_type": "execute_result",
          "data": {
            "text/plain": [
              "array(['orange'], dtype=object)"
            ]
          },
          "metadata": {},
          "execution_count": 16
        }
      ]
    },
    {
      "cell_type": "code",
      "metadata": {
        "id": "YpFJ4MlGVD1Y",
        "colab": {
          "base_uri": "https://localhost:8080/"
        },
        "outputId": "29098b5f-aa87-4acc-c32c-9644c8fbc594"
      },
      "source": [
        "model.predict([[2, 129,\t201, 22.782342, 94.368035, 5.682344, 122.144995]])"
      ],
      "execution_count": null,
      "outputs": [
        {
          "output_type": "execute_result",
          "data": {
            "text/plain": [
              "array(['apple'], dtype=object)"
            ]
          },
          "metadata": {},
          "execution_count": 17
        }
      ]
    },
    {
      "cell_type": "code",
      "metadata": {
        "id": "0jPdVlT7WqEy"
      },
      "source": [
        ""
      ],
      "execution_count": null,
      "outputs": []
    }
  ]
}